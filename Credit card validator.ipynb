{
 "cells": [
  {
   "cell_type": "code",
   "execution_count": 20,
   "metadata": {},
   "outputs": [],
   "source": [
    "def validate(n):\n",
    "    \n",
    "    intArray = intToArray(n)\n",
    "    \n",
    "    if len(intArray) % 2 == 0:\n",
    "            oddEven(0, intArray)\n",
    "    else:\n",
    "            oddEven(1, intArray)\n",
    "            \n",
    "    if sum(intArray) % 10 == 0:\n",
    "            return True\n",
    "    \n",
    "    else:\n",
    "            return False"
   ]
  },
  {
   "cell_type": "code",
   "execution_count": 21,
   "metadata": {},
   "outputs": [],
   "source": [
    "def intToArray(n):\n",
    "        myArray = str(n)\n",
    "        \n",
    "        intArray = []\n",
    "        for x in myArray:\n",
    "                intArray.append(int(x))\n",
    "                \n",
    "        return intArray"
   ]
  },
  {
   "cell_type": "code",
   "execution_count": 22,
   "metadata": {},
   "outputs": [],
   "source": [
    "def oddEven(startIndex, intArray):\n",
    "    for i in range(startIndex, len(intArray), 2):\n",
    "        newDigit = intArray[i] * 2\n",
    "        if newDigit < 10:\n",
    "            intArray[i] = newDigit\n",
    "        else:\n",
    "            intArray[i] = sumOfDigits(newDigit)\n",
    "            \n",
    "def sumOfDigits(n):\n",
    "    return (n / 10) + (n % 10)"
   ]
  },
  {
   "cell_type": "code",
   "execution_count": null,
   "metadata": {},
   "outputs": [],
   "source": [
    "print (input(\"Enter CC number to validate\\r\\n>\"))"
   ]
  },
  {
   "cell_type": "code",
   "execution_count": null,
   "metadata": {},
   "outputs": [],
   "source": []
  }
 ],
 "metadata": {
  "kernelspec": {
   "display_name": "Python 3",
   "language": "python",
   "name": "python3"
  },
  "language_info": {
   "codemirror_mode": {
    "name": "ipython",
    "version": 3
   },
   "file_extension": ".py",
   "mimetype": "text/x-python",
   "name": "python",
   "nbconvert_exporter": "python",
   "pygments_lexer": "ipython3",
   "version": "3.7.3"
  }
 },
 "nbformat": 4,
 "nbformat_minor": 2
}
