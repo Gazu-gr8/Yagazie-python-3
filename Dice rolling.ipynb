{
 "cells": [
  {
   "cell_type": "code",
   "execution_count": 2,
   "metadata": {},
   "outputs": [],
   "source": [
    "#Things to use\n",
    "\n",
    "#Random\n",
    "#Integer\n",
    "#Print\n",
    "#While Loops"
   ]
  },
  {
   "cell_type": "code",
   "execution_count": 14,
   "metadata": {},
   "outputs": [
    {
     "name": "stdout",
     "output_type": "stream",
     "text": [
      "The number on the die is 3\n"
     ]
    }
   ],
   "source": [
    "import random#Using the randomlibary to generate random numbers\n",
    "Roll= random.randint(1,6)#Variable's value is randomly generated between 1 and 6\n",
    "if Roll==1:\n",
    "    print (\"The number on the die is\",Roll)\n",
    "elif Roll==2:\n",
    "    print (\"The number on the die is\",Roll)\n",
    "elif Roll==3:\n",
    "    print (\"The number on the die is\",Roll)\n",
    "elif Roll==4:\n",
    "    print (\"The number on the die is\",Roll)\n",
    "elif Roll==5:\n",
    "    print (\"The number on the die is\",Roll)\n",
    "else:\n",
    "    print (\"The number on the die is\",Roll)"
   ]
  },
  {
   "cell_type": "code",
   "execution_count": null,
   "metadata": {},
   "outputs": [],
   "source": []
  }
 ],
 "metadata": {
  "kernelspec": {
   "display_name": "Python 3",
   "language": "python",
   "name": "python3"
  },
  "language_info": {
   "codemirror_mode": {
    "name": "ipython",
    "version": 3
   },
   "file_extension": ".py",
   "mimetype": "text/x-python",
   "name": "python",
   "nbconvert_exporter": "python",
   "pygments_lexer": "ipython3",
   "version": "3.7.3"
  }
 },
 "nbformat": 4,
 "nbformat_minor": 2
}
